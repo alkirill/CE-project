{
 "cells": [
  {
   "cell_type": "markdown",
   "id": "5d8c7d19",
   "metadata": {},
   "source": [
    "### Computational Economics\n",
    "Alexander Skorobogatov"
   ]
  },
  {
   "cell_type": "markdown",
   "id": "33256d6c",
   "metadata": {},
   "source": [
    "# Information for the projects"
   ]
  },
  {
   "cell_type": "markdown",
   "id": "474d4bc3",
   "metadata": {},
   "source": [
    "Work is to be done by a group of 1-4 persons.  \n",
    "\n",
    "Choose an academic or applied problem and solve this using functions of Python, including its libraries such as numpy, pandas, sympy, etc.  \n",
    "    \n",
    "Examples of academic problems  \n",
    "* Take a model from a micro- or macroeconomics textbook, provide its setup and analytical solution using sympy, illustrate this numerically using numpy and/or pandas, and vizualize your analysis using matplotlib. For example of this work, see [here](https://github.com/askorobogat/CompEcon/blob/main/Seminar%204.2_assignments.ipynb).  \n",
    "* Take a panel or time series dataset and analyze this using Markov chains toolkit and the respective Python libraries (example of the task is [here](https://github.com/askorobogat/CompEcon/blob/main/Seminar%203.1_assignments.ipynb)).  \n",
    "* Take a time series dataset and analyze this using SVAR and the respective Python libraries (example of the task is [here](https://github.com/askorobogat/CompEcon/blob/main/Topic%206.1%20SVAR.ipynb)).  \n",
    "    \n",
    "Examples of applied problems  \n",
    "* Take a piece of data of your own choice (from the Internet, a PDF file) which needs extensive manipulations using numpy/pandas to make it analyzable as a standard table. The more manipulations, the better.\n",
    "* Take business reports of a company, e.g., [this](https://www.nornickel.ru/upload/iblock/53b/k7mqjhb1n9o0y8eieu0adzgn3b98z8xg/NN_AR_2021_Book_RUS_26.09.22.pdf), choose a table reported annually, read this for all the available years in Python and combine in one table.\n",
    "\n",
    "Criteria of a good job\n",
    "\n",
    "1. An extensive use of the material covered in the course;\n",
    "2. But your operations do not reduce to copying codes from seminars/lectures.When needed you may do the same by your own;\n",
    "3. If you implement some libraries/ideas/skills going beyond the course this is your advantage;\n",
    "4. The more persons involved, the higher the requirements to the quantity/quality of the work done.\n",
    "\n",
    "Format and submit\n",
    "\n",
    "Format you work as a Jupiter notebook, put the names of all the participants, and send me to [the telegram](https://t.me/al_askorobogatov).\n",
    "\n",
    "Deadline -- October 24."
   ]
  },
  {
   "cell_type": "code",
   "execution_count": 1,
   "id": "d75dea0b",
   "metadata": {},
   "outputs": [],
   "source": [
    "from sympy import *\n",
    "import matplotlib.pyplot as pl"
   ]
  },
  {
   "cell_type": "code",
   "execution_count": 2,
   "id": "076a0a89",
   "metadata": {},
   "outputs": [
    {
     "data": {
      "text/latex": [
       "$\\displaystyle f{\\left(x_{1},x_{2} \\right)} = x_{1}^{a} x_{2}^{b}$"
      ],
      "text/plain": [
       "Eq(f(x1, x2), x1**a*x2**b)"
      ]
     },
     "execution_count": 2,
     "metadata": {},
     "output_type": "execute_result"
    }
   ],
   "source": [
    "x1, x2, w1, w2, y, a, b  = symbols('x1, x2, w1, w2, y, a, b')\n",
    "l = Symbol(\"\\lambda\")\n",
    "mi = Symbol(\"\\min\")\n",
    "f = Function(\"f\")(x1,x2)\n",
    "mini = w1*x1 + w2*x2\n",
    "pf = (x1**a) * (x2**b)\n",
    "eq = Eq(f, pf)\n",
    "eq"
   ]
  },
  {
   "cell_type": "code",
   "execution_count": 3,
   "id": "e5febfa1",
   "metadata": {},
   "outputs": [
    {
     "data": {
      "text/latex": [
       "$\\displaystyle \\frac{\\lambda a y}{w_{1}}$"
      ],
      "text/plain": [
       "\\lambda*a*y/w1"
      ]
     },
     "execution_count": 3,
     "metadata": {},
     "output_type": "execute_result"
    }
   ],
   "source": [
    "# Лагранжан\n",
    "L = mini - l * (pf - y)\n",
    "d_x1 = solve(Eq(diff(L,x1),0),w1)[0]\n",
    "d_x2 = solve(Eq(diff(L,x2),0),w2)[0]\n",
    "d_lambd = solve(Eq(diff(L,l),0),y)[0]\n",
    "\n",
    "\n",
    "eq_x1 = Eq(w1, d_x1)\n",
    "eq_x2 = Eq(w2, d_x2)\n",
    "eq_lambd = Eq(y, d_lambd)\n",
    "eq_lambd\n",
    "\n",
    "eq1_x1 = Eq(w1*x1, d_x1*x1).simplify()\n",
    "eq1_x1 = eq1_x1.subs((x1**a) * (x2**b), y)\n",
    "eq1_x2 = Eq(w2*x2, d_x2*x2).simplify()\n",
    "eq1_x2 = eq1_x2.subs((x1**a) * (x2**b), y)\n",
    "\n",
    "x1_s = solve(eq1_x1, x1)[0]\n",
    "x2_s = solve(eq1_x2, x2)[0]\n",
    "x1_s"
   ]
  },
  {
   "cell_type": "code",
   "execution_count": 4,
   "id": "013177e4",
   "metadata": {},
   "outputs": [
    {
     "data": {
      "text/latex": [
       "$\\displaystyle \\left(\\frac{\\lambda a y}{w_{1}}\\right)^{a} \\left(\\frac{\\lambda b y}{w_{2}}\\right)^{b} = y$"
      ],
      "text/plain": [
       "Eq((\\lambda*a*y/w1)**a*(\\lambda*b*y/w2)**b, y)"
      ]
     },
     "execution_count": 4,
     "metadata": {},
     "output_type": "execute_result"
    }
   ],
   "source": [
    "y_s = d_lambd.subs([(x1, solve(eq1_x1, x1)[0]),(x2, solve(eq1_x2, x2)[0])])\n",
    "eq_y = Eq(y_s, y)\n",
    "eq_y"
   ]
  },
  {
   "cell_type": "code",
   "execution_count": 5,
   "id": "e93a5fa1",
   "metadata": {},
   "outputs": [],
   "source": [
    "lamda_eq = solve(y_s - y, l)[0]\n",
    "d = Eq(lamda_eq, l)\n",
    "# d\n",
    "# lamda_eq = simplify(eq_y)\n",
    "# lamda_eq\n"
   ]
  },
  {
   "cell_type": "code",
   "execution_count": 6,
   "id": "3ab9ba83",
   "metadata": {},
   "outputs": [
    {
     "data": {
      "text/latex": [
       "$\\displaystyle - y + \\left(\\frac{\\lambda a y}{w_{1}}\\right)^{a} \\left(\\frac{\\lambda b y}{w_{2}}\\right)^{b}$"
      ],
      "text/plain": [
       "-y + (\\lambda*a*y/w1)**a*(\\lambda*b*y/w2)**b"
      ]
     },
     "execution_count": 6,
     "metadata": {},
     "output_type": "execute_result"
    }
   ],
   "source": [
    "y_s - y"
   ]
  },
  {
   "cell_type": "code",
   "execution_count": 7,
   "id": "af91d6b9",
   "metadata": {},
   "outputs": [],
   "source": [
    "x1 = Function(\"x1\")(w1,w2,y)\n",
    "x2 = Function(\"x2\")(w1,w2,y)"
   ]
  },
  {
   "cell_type": "code",
   "execution_count": 8,
   "id": "6eed45d5",
   "metadata": {},
   "outputs": [],
   "source": [
    "res_x1 = x1_s.subs(l, lamda_eq)\n",
    "res_x2 = x2_s.subs(l, lamda_eq)\n",
    "x1_res = Eq(x1, res_x1)\n",
    "x2_res = Eq(x2, res_x2)"
   ]
  },
  {
   "cell_type": "code",
   "execution_count": 9,
   "id": "d52021f4",
   "metadata": {},
   "outputs": [
    {
     "data": {
      "text/latex": [
       "$\\displaystyle \\operatorname{x_{1}}{\\left(w_{1},w_{2},y \\right)} = \\frac{a y e^{\\frac{\\log{\\left(y \\right)} + \\log{\\left(a^{- a} b^{- b} w_{1}^{a} w_{2}^{b} y^{- a - b} \\right)}}{a + b}}}{w_{1}}$"
      ],
      "text/plain": [
       "Eq(x1(w1, w2, y), a*y*exp((log(y) + log(a**(-a)*b**(-b)*w1**a*w2**b*y**(-a - b)))/(a + b))/w1)"
      ]
     },
     "execution_count": 9,
     "metadata": {},
     "output_type": "execute_result"
    }
   ],
   "source": [
    "x1_res"
   ]
  },
  {
   "cell_type": "code",
   "execution_count": 10,
   "id": "46b78e8f",
   "metadata": {},
   "outputs": [
    {
     "data": {
      "text/latex": [
       "$\\displaystyle \\operatorname{x_{2}}{\\left(w_{1},w_{2},y \\right)} = \\frac{b y e^{\\frac{\\log{\\left(y \\right)} + \\log{\\left(a^{- a} b^{- b} w_{1}^{a} w_{2}^{b} y^{- a - b} \\right)}}{a + b}}}{w_{2}}$"
      ],
      "text/plain": [
       "Eq(x2(w1, w2, y), b*y*exp((log(y) + log(a**(-a)*b**(-b)*w1**a*w2**b*y**(-a - b)))/(a + b))/w2)"
      ]
     },
     "execution_count": 10,
     "metadata": {},
     "output_type": "execute_result"
    }
   ],
   "source": [
    "x2_res\n"
   ]
  },
  {
   "cell_type": "code",
   "execution_count": 11,
   "id": "a3ff37c6",
   "metadata": {},
   "outputs": [],
   "source": [
    "c = Function(\"c\")(w1,w2,y)\n",
    "cs = w1*x1 + w2*x2\n",
    "c_eq = Eq(c, cs)"
   ]
  },
  {
   "cell_type": "code",
   "execution_count": 12,
   "id": "5bf26b36",
   "metadata": {},
   "outputs": [
    {
     "data": {
      "text/latex": [
       "$\\displaystyle c{\\left(w_{1},w_{2},y \\right)} = w_{1} \\operatorname{x_{1}}{\\left(w_{1},w_{2},y \\right)} + w_{2} \\operatorname{x_{2}}{\\left(w_{1},w_{2},y \\right)}$"
      ],
      "text/plain": [
       "Eq(c(w1, w2, y), w1*x1(w1, w2, y) + w2*x2(w1, w2, y))"
      ]
     },
     "execution_count": 12,
     "metadata": {},
     "output_type": "execute_result"
    }
   ],
   "source": [
    "c_eq"
   ]
  },
  {
   "cell_type": "code",
   "execution_count": 13,
   "id": "b3ae3d3d",
   "metadata": {},
   "outputs": [],
   "source": [
    "res_c = c_eq.subs([(x1,res_x1), (x2, res_x2)]).simplify()"
   ]
  },
  {
   "cell_type": "code",
   "execution_count": 14,
   "id": "92290422",
   "metadata": {},
   "outputs": [
    {
     "data": {
      "text/latex": [
       "$\\displaystyle c{\\left(w_{1},w_{2},y \\right)} = y \\left(a + b\\right) e^{\\frac{\\log{\\left(y \\right)} + \\log{\\left(a^{- a} b^{- b} w_{1}^{a} w_{2}^{b} y^{- a - b} \\right)}}{a + b}}$"
      ],
      "text/plain": [
       "Eq(c(w1, w2, y), y*(a + b)*exp((log(y) + log(a**(-a)*b**(-b)*w1**a*w2**b*y**(-a - b)))/(a + b)))"
      ]
     },
     "execution_count": 14,
     "metadata": {},
     "output_type": "execute_result"
    }
   ],
   "source": [
    "res_c"
   ]
  },
  {
   "cell_type": "code",
   "execution_count": 15,
   "id": "7f6ba1ca",
   "metadata": {},
   "outputs": [
    {
     "data": {
      "text/latex": [
       "$\\displaystyle \\frac{a y e^{\\frac{\\log{\\left(y \\right)} + \\log{\\left(a^{- a} b^{- b} w_{1}^{a} w_{2}^{b} y^{- a - b} \\right)}}{a + b}}}{w_{1}}$"
      ],
      "text/plain": [
       "a*y*exp((log(y) + log(a**(-a)*b**(-b)*w1**a*w2**b*y**(-a - b)))/(a + b))/w1"
      ]
     },
     "execution_count": 15,
     "metadata": {},
     "output_type": "execute_result"
    }
   ],
   "source": [
    "res_x1"
   ]
  },
  {
   "cell_type": "code",
   "execution_count": 16,
   "id": "f304855b",
   "metadata": {},
   "outputs": [
    {
     "data": {
      "text/latex": [
       "$\\displaystyle \\frac{0.848411284308222 y^{1.85714285714286} \\left(\\frac{w_{1}^{0.5} w_{2}^{0.666666666666667}}{y^{1.16666666666667}}\\right)^{0.857142857142857}}{w_{1}}$"
      ],
      "text/plain": [
       "0.848411284308222*y**1.85714285714286*(w1**0.5*w2**0.666666666666667*y**(-1.16666666666667))**0.857142857142857/w1"
      ]
     },
     "execution_count": 16,
     "metadata": {},
     "output_type": "execute_result"
    }
   ],
   "source": [
    "x_1 = res_x1.subs([(𝑎,1/2),(𝑏,2/3)])\n",
    "x_1"
   ]
  },
  {
   "cell_type": "code",
   "execution_count": 17,
   "id": "53687f4f",
   "metadata": {},
   "outputs": [
    {
     "name": "stderr",
     "output_type": "stream",
     "text": [
      "/Users/kirill/opt/anaconda3/lib/python3.8/site-packages/sympy/core/relational.py:495: SymPyDeprecationWarning: \n",
      "\n",
      "Eq(expr) with rhs default to 0 has been deprecated since SymPy 1.5.\n",
      "Use Eq(expr, 0) instead. See\n",
      "https://github.com/sympy/sympy/issues/16587 for more info.\n",
      "\n",
      "  SymPyDeprecationWarning(\n"
     ]
    },
    {
     "data": {
      "text/latex": [
       "$\\displaystyle 54 x_{1}^{0.5} x_{2}^{0.666666666666667} = 1$"
      ],
      "text/plain": [
       "Eq(54*x1**0.5*x2**0.666666666666667, 1)"
      ]
     },
     "execution_count": 17,
     "metadata": {},
     "output_type": "execute_result"
    }
   ],
   "source": [
    "# Числовой пример\n",
    "# w1 = 2, w2 = 7, a = 1/2, b = 2/3, y = 1, \n",
    "\n",
    "x1, x2, w1, w2, y, a, b, k  = symbols('x1, x2, w1, w2, y, a, b, k')\n",
    "\n",
    "a = 1/2\n",
    "b = 2/3\n",
    "costs = 2*x1 + 7* x2\n",
    "f1 = 54*(x1**a) * (x2**b)\n",
    "costs_eq = Eq(costs)\n",
    "f1_eq = Eq(f1, 1)\n",
    "f1_eq\n"
   ]
  },
  {
   "cell_type": "code",
   "execution_count": 35,
   "id": "aed11dba",
   "metadata": {},
   "outputs": [
    {
     "data": {
      "text/latex": [
       "$\\displaystyle 0.0216503148681957$"
      ],
      "text/plain": [
       "0.0216503148681957"
      ]
     },
     "execution_count": 35,
     "metadata": {},
     "output_type": "execute_result"
    }
   ],
   "source": [
    "# Лагранжан\n",
    "L = costs - l*(f1 - 1)\n",
    "d_x1 = solve(Eq(diff(L,x1),0),l)[0]\n",
    "d_x2 = solve(Eq(diff(L,x2),0),l)[0]\n",
    "d_lambd = solve(Eq(diff(L,l),0), x1)[0]\n",
    "\n",
    "m = Eq(d_x1,d_x2)\n",
    "x2_res_primer = solve(m.subs(x1, d_lambd), x2)[0]\n",
    "x1_res_primer = d_lambd.subs(x2, x2_res_primer)\n",
    "x1_res_primer\n",
    "x2_res_primer"
   ]
  },
  {
   "cell_type": "code",
   "execution_count": 50,
   "id": "fcdf652d",
   "metadata": {},
   "outputs": [
    {
     "data": {
      "image/png": "[encoded data removed]",
      "text/plain": [
       "<Figure size 432x288 with 1 Axes>"
      ]
     },
     "metadata": {
      "needs_background": "light"
     },
     "output_type": "display_data"
    }
   ],
   "source": [
    "# plot\n",
    "k = Symbol('k')\n",
    "\n",
    "import numpy as np\n",
    "import pandas as pd\n",
    "isokv = solve(f1_eq, x2)[0]\n",
    "isokvanta = Eq(x2, isokv)\n",
    "isokvanta\n",
    "x12 = np.linspace(0.001,0.3)\n",
    "\n",
    "\n",
    "x1_list = []\n",
    "x2_list = []\n",
    "\n",
    "for i in range(len(x12)):\n",
    "    x11 = x12[i]\n",
    "    x1_list.append(x11)\n",
    "    x222 = 0.00252005117570286/(x11**(3/4))\n",
    "    x2_list.append(x222)\n",
    "    \n",
    "dat_1 = {'x1':x1_list, 'x2':x2_list}\n",
    "\n",
    "data_1 = pd.DataFrame(dat_1)\n",
    "data_1.set_index(\"x1\", inplace = True)\n",
    "data_1\n",
    "\n",
    "\n",
    "\n",
    "isokosta = Eq((-w1/w2)*x1 + k, x2)\n",
    "res_k = solve(isokosta.subs([(w1,2),(w2,7),(x1,x1_res_primer),(x2, x2_res_primer)]), k)[0]\n",
    "res_k\n",
    "\n",
    "\n",
    "x1_1 = np.linspace(0.001,0.3)\n",
    "\n",
    "\n",
    "x11_list = []\n",
    "x22_list = []\n",
    "\n",
    "for i in range(len(x1_1)):\n",
    "    x111 = x1_1[i]\n",
    "    x11_list.append(x111)\n",
    "    x222 = -2/7*x111 + res_k\n",
    "    x22_list.append(x222)\n",
    "    \n",
    "dat_2 = {'x1':x11_list, 'x2':x22_list}\n",
    "\n",
    "data_2 = pd.DataFrame(dat_2)\n",
    "data_2.set_index(\"x1\", inplace = True)\n",
    "data_2\n",
    "\n",
    "import matplotlib.pyplot as plt\n",
    "\n",
    "\n",
    "\n",
    "\n",
    "pl1, pl2 = plt.subplots()\n",
    "pl1 = plt.plot(data_1['x2'], label = \"line1\")\n",
    "pl2 = plt.plot(data_2['x2'], label = \"line 2\")\n",
    "p13 = plt.scatter(x1_res_primer, x2_res_primer)\n",
    "\n",
    "plt.title(\"title\")\n",
    "plt.xlabel(\"xlabel\")\n",
    "plt.ylabel(\"ylabel\")\n",
    "\n",
    "plt.show()\n",
    "# data_"
   ]
  },
  {
   "cell_type": "markdown",
   "id": "c22d7168",
   "metadata": {},
   "source": []
  },
  {
   "cell_type": "code",
   "execution_count": null,
   "id": "46eaa517",
   "metadata": {},
   "outputs": [],
   "source": []
  },
  {
   "cell_type": "code",
   "execution_count": null,
   "id": "ca80c0e4",
   "metadata": {},
   "outputs": [],
   "source": []
  }
 ],
 "metadata": {
  "kernelspec": {
   "display_name": "Python 3",
   "language": "python",
   "name": "python3"
  },
  "language_info": {
   "codemirror_mode": {
    "name": "ipython",
    "version": 3
   },
   "file_extension": ".py",
   "mimetype": "text/x-python",
   "name": "python",
   "nbconvert_exporter": "python",
   "pygments_lexer": "ipython3",
   "version": "3.8.8"
  }
 },
 "nbformat": 4,
 "nbformat_minor": 5
}
